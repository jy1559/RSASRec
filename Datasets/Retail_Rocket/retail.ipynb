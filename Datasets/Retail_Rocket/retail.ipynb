{
 "cells": [
  {
   "cell_type": "code",
   "execution_count": 1,
   "metadata": {},
   "outputs": [],
   "source": [
    "import json\n",
    "\n",
    "# 파일 읽기\n",
    "with open('interactions.json', 'r') as file:\n",
    "    data = json.load(file)\n",
    "test = False\n",
    "# \"data\" 안의 각 interaction 순회\n",
    "text_to_int = {}\n",
    "current_int = 0\n",
    "for interaction_key, interaction_value in data['data'].items():\n",
    "    \n",
    "    # 2차원 배열 순회\n",
    "    for session in interaction_value:\n",
    "        for interaction in session:\n",
    "            # [2] 위치의 리스트 순회\n",
    "            \n",
    "            for i,info in enumerate(interaction[2]):\n",
    "                if isinstance(info, int):\n",
    "                    continue  # 이미 정수인 경우\n",
    "                if isinstance(info, float):\n",
    "                    continue  # 이미 정수인 경우\n",
    "                elif isinstance(info, bool):\n",
    "                    interaction[2][i] = 1 if info else 0  # bool을 1 또는 0으로 변환\n",
    "                elif isinstance(info, str):\n",
    "                    if info == \"\":\n",
    "                        interaction[2][i] = -1  # 빈 문자열은 -1로 변환\n",
    "                    else:\n",
    "                        try:\n",
    "                            interaction[2][i] = float(info)  # 실수로 변환 가능한 경우\n",
    "                        except:\n",
    "                            if info not in text_to_int:\n",
    "                                text_to_int[info] = current_int\n",
    "                                current_int += 1\n",
    "                            interaction[2][i] = text_to_int[info]  # 텍스트를 정수로 변환\n",
    "                else:\n",
    "                    try:\n",
    "                        interaction[2][i] = int(info)  # 정수로 변환 가능한 경우\n",
    "                    except ValueError:\n",
    "                        pass  # 변환 불가능한 경우는 그대로 둠\n",
    "\n",
    "# 수정된 데이터를 저장 (필요한 경우)\n",
    "with open('interaction_modified.json', 'w') as file:\n",
    "    json.dump(data, file, indent=4)"
   ]
  }
 ],
 "metadata": {
  "kernelspec": {
   "display_name": "Python 3",
   "language": "python",
   "name": "python3"
  },
  "language_info": {
   "codemirror_mode": {
    "name": "ipython",
    "version": 3
   },
   "file_extension": ".py",
   "mimetype": "text/x-python",
   "name": "python",
   "nbconvert_exporter": "python",
   "pygments_lexer": "ipython3",
   "version": "3.10.16"
  }
 },
 "nbformat": 4,
 "nbformat_minor": 2
}
