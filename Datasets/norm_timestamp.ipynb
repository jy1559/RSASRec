{
 "cells": [
  {
   "cell_type": "code",
   "execution_count": null,
   "metadata": {},
   "outputs": [
    {
     "name": "stdout",
     "output_type": "stream",
     "text": [
      "Minimum timestamp: 0.0\n",
      "Maximum timestamp after adjustment: 301274692.0\n"
     ]
    }
   ],
   "source": [
    "import json\n",
    "\n",
    "# interactions.json 파일 로드\n",
    "folder = 'LFM-BeyMS'\n",
    "with open(folder + '/interactions.json', 'r', encoding='utf-8') as f:\n",
    "    data = json.load(f)\n",
    "\n",
    "# 최소 timestamp 구하기\n",
    "min_ts = float('inf')\n",
    "for user_id, sessions in data[\"data\"].items():\n",
    "    for session in sessions:\n",
    "        for interaction in session:\n",
    "            ts = interaction[1]\n",
    "            if ts < min_ts:\n",
    "                min_ts = ts\n",
    "\n",
    "print(\"Minimum timestamp:\", min_ts)\n",
    "max_tg = 0\n",
    "# 각 interaction의 timestamp에서 최소 timestamp 빼기\n",
    "for user_id, sessions in data[\"data\"].items():\n",
    "    for session in sessions:\n",
    "        for interaction in session:\n",
    "            #interaction[1] = (interaction[1] - min_ts) / 1000.0\n",
    "            for i, add_info in enumerate(interaction[2]):\n",
    "                if isinstance(add_info, str):\n",
    "                    interaction[2][i] = int(add_info)\n",
    "            if max_tg < interaction[1] :\n",
    "                max_tg = interaction[1]\n",
    "print(\"Maximum timestamp after adjustment:\", max_tg)\n",
    "# 결과를 interactions_revised.json으로 저장\n",
    "#with open(folder + '/interactions_revised.json', 'w', encoding='utf-8') as f:\n",
    "    #json.dump(data, f, indent=2)\n",
    "\n",
    "#print(\"Revised interactions saved to interactions_revised.json\")\n"
   ]
  }
 ],
 "metadata": {
  "kernelspec": {
   "display_name": "Python 3",
   "language": "python",
   "name": "python3"
  },
  "language_info": {
   "codemirror_mode": {
    "name": "ipython",
    "version": 3
   },
   "file_extension": ".py",
   "mimetype": "text/x-python",
   "name": "python",
   "nbconvert_exporter": "python",
   "pygments_lexer": "ipython3",
   "version": "3.10.14"
  }
 },
 "nbformat": 4,
 "nbformat_minor": 2
}
